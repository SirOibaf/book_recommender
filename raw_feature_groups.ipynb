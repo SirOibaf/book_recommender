{
 "cells": [
  {
   "cell_type": "code",
   "execution_count": 7,
   "id": "7f3c57f7",
   "metadata": {},
   "outputs": [
    {
     "name": "stdout",
     "output_type": "stream",
     "text": [
      "Connected. Call `.close()` to terminate connection gracefully."
     ]
    }
   ],
   "source": [
    "import hsfs\n",
    "from pyspark.sql import functions as F\n",
    "\n",
    "connection = hsfs.connection()\n",
    "fs = connection.get_feature_store()"
   ]
  },
  {
   "cell_type": "code",
   "execution_count": 16,
   "id": "65741a0e",
   "metadata": {},
   "outputs": [],
   "source": [
    "# Read source dataset \n",
    "books = spark.read.format('csv') \\\n",
    "            .option('header', 'true') \\\n",
    "            .option(\"quote\", \"\\\"\") \\\n",
    "            .option(\"escape\", \"\\\"\") \\\n",
    "            .load('hdfs:///Projects/book_recommendation/RawData/Books.csv')\n",
    "\n",
    "users = spark.read.format('csv') \\\n",
    "            .option('header', 'true') \\\n",
    "            .load('hdfs:///Projects/book_recommendation/RawData/Users.csv')\n",
    "\n",
    "ratings = spark.read.format('csv') \\\n",
    "            .option('header', 'true') \\\n",
    "            .option('inferSchema', 'true') \\\n",
    "            .load('hdfs:///Projects/book_recommendation/RawData/Ratings.csv')"
   ]
  },
  {
   "cell_type": "code",
   "execution_count": 17,
   "id": "bdaa5441",
   "metadata": {},
   "outputs": [],
   "source": [
    "# Books feature engineering\n",
    "# Drop image columns as they are not needed for our use case\n",
    "books = books.drop('Image-URL-S', 'Image-URL-M', 'Image-URL-L')"
   ]
  },
  {
   "cell_type": "code",
   "execution_count": 18,
   "id": "892c6d76",
   "metadata": {},
   "outputs": [],
   "source": [
    "# Data cleaning\n",
    "# Some rows have wrongly allinged columns that need to be fixed\n",
    "books = books.withColumn('Year-Of-Publication', \n",
    "                             F.when((F.col(\"ISBN\") == \"078946697X\") | (F.col(\"ISBN\") == \"0789466953\"), 2000).otherwise(F.col('Year-Of-Publication'))) \\\n",
    "                 .withColumn('Publisher', \n",
    "                             F.when((F.col(\"ISBN\") == \"078946697X\") | (F.col(\"ISBN\") == \"0789466953\"), \"DK Publishing Inc\").otherwise(F.col('Publisher'))) \\\n",
    "                 .withColumn('Book-Author', F.when(F.col(\"ISBN\") == \"078946697X\", \"Michael Teitelbaum\").otherwise(F.col('Book-Author'))) \\\n",
    "                 .withColumn('Book-Title', F.when(F.col(\"ISBN\") == \"078946697X\", \"DK Readers: Creating the X-Men, How It All Began (Level 4: Proficient Readers)\").otherwise(F.col('Book-Title'))) \\\n",
    "                 .withColumn('Book-Author', F.when(F.col(\"ISBN\") == \"0789466953\", \"James Buckley\").otherwise(F.col('Book-Author'))) \\\n",
    "                 .withColumn('Book-Title', F.when(F.col(\"ISBN\") == \"0789466953\", \"DK Readers: Creating the X-Men, How Comic Books Come to Life (Level 4: Proficient Readers)\").otherwise(F.col('Book-Title'))) \\\n",
    "                 .withColumn('Book-Author', F.when(F.col(\"ISBN\") == \"2070426769\", \"Jean-Marie Gustave Le ClÃ?Â©zio\").otherwise(F.col('Book-Author'))) \\\n",
    "                 .withColumn('Book-Title', F.when(F.col(\"ISBN\") == \"2070426769\", \"Peuple du ciel, suivi de 'Les Bergers\").otherwise(F.col('Book-Title'))) \\\n",
    "                 .withColumn('Publisher', F.when(F.col(\"ISBN\") == \"2070426769\", \"Gallimard\").otherwise(F.col('Publisher'))) \\\n",
    "                 .withColumn('Year-Of-Publication', F.when(F.col(\"ISBN\") == \"2070426769\", 2003).otherwise(F.col('Year-Of-Publication'))) "
   ]
  },
  {
   "cell_type": "code",
   "execution_count": 19,
   "id": "467fdae1",
   "metadata": {},
   "outputs": [],
   "source": [
    "# Deal with null values in publisher\n",
    "books = books.withColumn('Publisher', F.when(F.isnull('Publisher'), 'other').otherwise(F.col('Publisher')))"
   ]
  },
  {
   "cell_type": "code",
   "execution_count": 20,
   "id": "85658f46",
   "metadata": {},
   "outputs": [],
   "source": [
    "# Deal with weird Years-Of-Publication\n",
    "books = books.withColumn('Year-Of-Publication', F.col('Year-Of-Publication').cast('int'))"
   ]
  },
  {
   "cell_type": "code",
   "execution_count": 21,
   "id": "cb0dae06",
   "metadata": {},
   "outputs": [],
   "source": [
    "# Register raw books feature group\n",
    "books = books.selectExpr([\"`{}` as `{}`\".format(c, c.lower().replace('-', '_')) for c in books.columns])"
   ]
  },
  {
   "cell_type": "code",
   "execution_count": 23,
   "id": "47deac97",
   "metadata": {},
   "outputs": [],
   "source": [
    "extra_hudi_options = {\n",
    "    \"hoodie.bulkinsert.shuffle.parallelism\":\"5\",\n",
    "    \"hoodie.insert.shuffle.parallelism\":\"5\", \n",
    "    \"hoodie.upsert.shuffle.parallelism\":\"5\",\n",
    "    \"hoodie.parquet.compression.ratio\":\"0.5\"\n",
    "} "
   ]
  },
  {
   "cell_type": "code",
   "execution_count": 22,
   "id": "70546b09",
   "metadata": {},
   "outputs": [],
   "source": [
    "books_meta = fs.create_feature_group(\"books_raw\",\n",
    "                                version=1,\n",
    "                                description=\"Books raw data for feature engineering\",\n",
    "                                online_enabled=False,\n",
    "                                primary_key=[\"isbn\"])\n",
    "books_meta.save(books)"
   ]
  },
  {
   "cell_type": "code",
   "execution_count": 25,
   "id": "3b9d115e",
   "metadata": {},
   "outputs": [],
   "source": [
    "ratings = ratings.selectExpr([\"`{}` as `{}`\".format(c, c.lower().replace('-', '_')) for c in ratings.columns])"
   ]
  },
  {
   "cell_type": "code",
   "execution_count": 27,
   "id": "4b711099",
   "metadata": {},
   "outputs": [],
   "source": [
    "ratings_meta = fs.create_feature_group(\"ratings_raw\",\n",
    "                                version=1,\n",
    "                                description=\"Ratings raw data for feature engineering\",\n",
    "                                online_enabled=False,\n",
    "                                primary_key=[\"isbn\", \"user_id\"])\n",
    "\n",
    "ratings_meta.save(ratings, extra_hudi_options)"
   ]
  },
  {
   "cell_type": "code",
   "execution_count": 29,
   "id": "0bda9e53",
   "metadata": {},
   "outputs": [],
   "source": [
    "users = users.selectExpr([\"`{}` as `{}`\".format(c, c.lower().replace('-', '_')) for c in users.columns])"
   ]
  },
  {
   "cell_type": "code",
   "execution_count": 34,
   "id": "2cd25453",
   "metadata": {},
   "outputs": [],
   "source": [
    "users = users.filter(users.user_id.isNotNull())"
   ]
  },
  {
   "cell_type": "code",
   "execution_count": 36,
   "id": "e8ab3816",
   "metadata": {},
   "outputs": [],
   "source": [
    "users_meta = fs.create_feature_group(\"users_raw\",\n",
    "                                version=1,\n",
    "                                description=\"Users raw data for feature engineering\",\n",
    "                                online_enabled=False,\n",
    "                                primary_key=[\"user_id\"])\n",
    "\n",
    "users_meta.save(users, extra_hudi_options)"
   ]
  },
  {
   "cell_type": "code",
   "execution_count": null,
   "id": "f563c359",
   "metadata": {},
   "outputs": [],
   "source": []
  }
 ],
 "metadata": {
  "kernelspec": {
   "display_name": "PySpark",
   "language": "python",
   "name": "pysparkkernel"
  },
  "language_info": {
   "codemirror_mode": {
    "name": "python",
    "version": 3
   },
   "mimetype": "text/x-python",
   "name": "pyspark",
   "pygments_lexer": "python3"
  }
 },
 "nbformat": 4,
 "nbformat_minor": 5
}