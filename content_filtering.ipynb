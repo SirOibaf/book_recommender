{
 "cells": [
  {
   "cell_type": "code",
   "execution_count": 1,
   "id": "619bb4db",
   "metadata": {},
   "outputs": [
    {
     "name": "stdout",
     "output_type": "stream",
     "text": [
      "Starting Spark application\n"
     ]
    },
    {
     "data": {
      "text/html": [
       "<table>\n",
       "<tr><th>ID</th><th>Application ID</th><th>Kind</th><th>State</th><th>Spark UI</th><th>Driver log</th></tr><tr><td>7</td><td>application_1645967682797_0008</td><td>pyspark</td><td>idle</td><td><a target=\"_blank\" href=\"/hopsworks-api/yarnui/https://resourcemanager.service.consul:8089/proxy/application_1645967682797_0008/\">Link</a></td><td><a target=\"_blank\" href=\"/hopsworks-api/yarnui/https://ip-10-0-0-91.eu-north-1.compute.internal:8044/node/containerlogs/container_e01_1645967682797_0008_01_000001/book_recommendation__fabiolca\">Link</a></td></tr></table>"
      ],
      "text/plain": [
       "<IPython.core.display.HTML object>"
      ]
     },
     "metadata": {},
     "output_type": "display_data"
    },
    {
     "name": "stdout",
     "output_type": "stream",
     "text": [
      "SparkSession available as 'spark'.\n",
      "Connected. Call `.close()` to terminate connection gracefully."
     ]
    }
   ],
   "source": [
    "import hsfs\n",
    "connection = hsfs.connection()\n",
    "fs = connection.get_feature_store()"
   ]
  },
  {
   "cell_type": "code",
   "execution_count": 2,
   "id": "8ba3d2f9",
   "metadata": {},
   "outputs": [],
   "source": [
    "books = fs.get_feature_group('books', version=1)"
   ]
  },
  {
   "cell_type": "code",
   "execution_count": 23,
   "id": "9f958621",
   "metadata": {},
   "outputs": [],
   "source": [
    "books_df = books.select_except(['author_id','isbn', 'book_title', 'publisher']).read().limit(10000).toPandas()"
   ]
  },
  {
   "cell_type": "code",
   "execution_count": 16,
   "id": "72a025d9",
   "metadata": {},
   "outputs": [],
   "source": [
    "from sklearn.metrics.pairwise import cosine_similarity"
   ]
  },
  {
   "cell_type": "code",
   "execution_count": 24,
   "id": "e5107457",
   "metadata": {},
   "outputs": [
    {
     "name": "stdout",
     "output_type": "stream",
     "text": [
      "      year_of_publication  num_reviews  ...  num_ratings_10  is_author_popular_book\n",
      "0                    1981            1  ...               0                       1\n",
      "1                    1989            2  ...               0                       1\n",
      "2                    1992            3  ...               0                       1\n",
      "3                    1999            3  ...               0                       1\n",
      "4                    1974            1  ...               0                       1\n",
      "...                   ...          ...  ...             ...                     ...\n",
      "9995                 1997            5  ...               0                       0\n",
      "9996                 1997            1  ...               0                       1\n",
      "9997                 1997            1  ...               0                       0\n",
      "9998                 1997            1  ...               0                       1\n",
      "9999                 1997            1  ...               0                       0\n",
      "\n",
      "[10000 rows x 16 columns]"
     ]
    }
   ],
   "source": [
    "books_df"
   ]
  },
  {
   "cell_type": "code",
   "execution_count": 25,
   "id": "eb9c1a8e",
   "metadata": {},
   "outputs": [],
   "source": [
    "cos_similarity = cosine_similarity(books_df)"
   ]
  },
  {
   "cell_type": "code",
   "execution_count": 26,
   "id": "a8d45e3e",
   "metadata": {},
   "outputs": [
    {
     "name": "stdout",
     "output_type": "stream",
     "text": [
      "array([[1.        , 0.9999996 , 0.99999898, ..., 0.99999669, 0.99999681,\n",
      "        0.99999669]])"
     ]
    }
   ],
   "source": [
    "cos_similarity[:1]"
   ]
  },
  {
   "cell_type": "code",
   "execution_count": null,
   "id": "ecb87c71",
   "metadata": {},
   "outputs": [],
   "source": []
  }
 ],
 "metadata": {
  "kernelspec": {
   "display_name": "PySpark",
   "language": "python",
   "name": "pysparkkernel"
  },
  "language_info": {
   "codemirror_mode": {
    "name": "python",
    "version": 3
   },
   "mimetype": "text/x-python",
   "name": "pyspark",
   "pygments_lexer": "python3"
  }
 },
 "nbformat": 4,
 "nbformat_minor": 5
}