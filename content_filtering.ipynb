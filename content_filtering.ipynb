{
 "cells": [
  {
   "cell_type": "code",
   "execution_count": 1,
   "id": "4b290be5",
   "metadata": {},
   "outputs": [
    {
     "name": "stdout",
     "output_type": "stream",
     "text": [
      "Starting Spark application\n"
     ]
    },
    {
     "data": {
      "text/html": [
       "<table>\n",
       "<tr><th>ID</th><th>Application ID</th><th>Kind</th><th>State</th><th>Spark UI</th><th>Driver log</th></tr><tr><td>10</td><td>application_1645967682797_0011</td><td>pyspark</td><td>idle</td><td><a target=\"_blank\" href=\"/hopsworks-api/yarnui/https://resourcemanager.service.consul:8089/proxy/application_1645967682797_0011/\">Link</a></td><td><a target=\"_blank\" href=\"/hopsworks-api/yarnui/https://ip-10-0-0-91.eu-north-1.compute.internal:8044/node/containerlogs/container_e01_1645967682797_0011_01_000001/book_recommendation__fabiolca\">Link</a></td></tr></table>"
      ],
      "text/plain": [
       "<IPython.core.display.HTML object>"
      ]
     },
     "metadata": {},
     "output_type": "display_data"
    },
    {
     "name": "stdout",
     "output_type": "stream",
     "text": [
      "SparkSession available as 'spark'.\n",
      "Connected. Call `.close()` to terminate connection gracefully."
     ]
    }
   ],
   "source": [
    "import hsfs\n",
    "connection = hsfs.connection()\n",
    "fs = connection.get_feature_store()"
   ]
  },
  {
   "cell_type": "code",
   "execution_count": 2,
   "id": "32664269",
   "metadata": {},
   "outputs": [],
   "source": [
    "books = fs.get_feature_group('books', version=1)"
   ]
  },
  {
   "cell_type": "code",
   "execution_count": 19,
   "id": "05c298fa",
   "metadata": {},
   "outputs": [],
   "source": [
    "books_df = books.select_except(['author_id','isbn', 'book_title', 'publisher']).read().limit(10000).toPandas()"
   ]
  },
  {
   "cell_type": "code",
   "execution_count": 20,
   "id": "487e979a",
   "metadata": {},
   "outputs": [],
   "source": [
    "from sklearn.metrics.pairwise import cosine_similarity"
   ]
  },
  {
   "cell_type": "code",
   "execution_count": 21,
   "id": "643decf4",
   "metadata": {},
   "outputs": [],
   "source": [
    "# Gotta normalize this dataframe, otherwise I all 1s\n",
    "normalized_df=(books_df-books_df.min())/(books_df.max()-books_df.min())"
   ]
  },
  {
   "cell_type": "code",
   "execution_count": 22,
   "id": "5a2f1bbb",
   "metadata": {},
   "outputs": [],
   "source": [
    "cos_similarity = cosine_similarity(normalized_df)"
   ]
  },
  {
   "cell_type": "code",
   "execution_count": 23,
   "id": "14f28e1b",
   "metadata": {},
   "outputs": [
    {
     "name": "stdout",
     "output_type": "stream",
     "text": [
      "array([[1.        , 0.81890197, 0.80283312, ..., 0.57847696, 0.8189099 ,\n",
      "        0.57847697],\n",
      "       [0.81890197, 1.        , 0.73858687, ..., 0.70622875, 0.99999629,\n",
      "        0.70622873],\n",
      "       [0.80283312, 0.73858687, 1.        , ..., 0.52161134, 0.73857323,\n",
      "        0.52161131]])"
     ]
    }
   ],
   "source": [
    "cos_similarity[:3]"
   ]
  },
  {
   "cell_type": "code",
   "execution_count": null,
   "id": "7dc52b27",
   "metadata": {},
   "outputs": [],
   "source": []
  }
 ],
 "metadata": {
  "kernelspec": {
   "display_name": "PySpark",
   "language": "python",
   "name": "pysparkkernel"
  },
  "language_info": {
   "codemirror_mode": {
    "name": "python",
    "version": 3
   },
   "mimetype": "text/x-python",
   "name": "pyspark",
   "pygments_lexer": "python3"
  }
 },
 "nbformat": 4,
 "nbformat_minor": 5
}