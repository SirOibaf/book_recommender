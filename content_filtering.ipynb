{
 "cells": [
  {
   "cell_type": "code",
   "execution_count": 20,
   "id": "5b5d5797",
   "metadata": {},
   "outputs": [
    {
     "name": "stdout",
     "output_type": "stream",
     "text": [
      "Connected. Call `.close()` to terminate connection gracefully."
     ]
    }
   ],
   "source": [
    "import hsfs\n",
    "import numpy as np\n",
    "import pandas as pd\n",
    "\n",
    "from pyspark.sql.functions import col\n",
    "from sklearn.metrics.pairwise import cosine_similarity\n",
    "\n",
    "connection = hsfs.connection()\n",
    "fs = connection.get_feature_store()"
   ]
  },
  {
   "cell_type": "code",
   "execution_count": 2,
   "id": "af20ae91",
   "metadata": {},
   "outputs": [],
   "source": [
    "books = fs.get_feature_group('books', version=1)\n",
    "title_embeddings = fs.get_feature_group('title_embeddings', version=1)"
   ]
  },
  {
   "cell_type": "code",
   "execution_count": 19,
   "id": "0cccaa73",
   "metadata": {},
   "outputs": [],
   "source": [
    "books_df = books.select_except(['book_title', 'publisher']) \\\n",
    "                .join(title_embeddings.select_all()) \\\n",
    "                .read() \\\n",
    "                .limit(10000)"
   ]
  },
  {
   "cell_type": "code",
   "execution_count": 21,
   "id": "468b4b63",
   "metadata": {},
   "outputs": [],
   "source": [
    "for i in range(0, 100):\n",
    "    books_df = books_df.withColumn(\"e{}\".format(i), col('title_embeddings').getItem(i))"
   ]
  },
  {
   "cell_type": "code",
   "execution_count": 42,
   "id": "54404a69",
   "metadata": {},
   "outputs": [],
   "source": [
    "books_df = books_df.drop('title_embeddings')"
   ]
  },
  {
   "cell_type": "code",
   "execution_count": 43,
   "id": "b8ba9105",
   "metadata": {},
   "outputs": [
    {
     "name": "stdout",
     "output_type": "stream",
     "text": [
      "PerformanceWarning: DataFrame is highly fragmented.  This is usually the result of calling `frame.insert` many times, which has poor performance.  Consider joining all columns at once using pd.concat(axis=1) instead.  To get a de-fragmented frame, use `newframe = frame.copy()`"
     ]
    }
   ],
   "source": [
    "books_pdf = books_df.toPandas()"
   ]
  },
  {
   "cell_type": "code",
   "execution_count": 44,
   "id": "f201deb8",
   "metadata": {},
   "outputs": [],
   "source": [
    "isbn = books_pdf[\"isbn\"]"
   ]
  },
  {
   "cell_type": "code",
   "execution_count": 45,
   "id": "8f516add",
   "metadata": {},
   "outputs": [
    {
     "name": "stdout",
     "output_type": "stream",
     "text": [
      "0       0006149995\n",
      "1       0006552447\n",
      "2       0006645097\n",
      "3       0026259206\n",
      "4       0027653668\n",
      "           ...    \n",
      "9995    0515119989\n",
      "9996    0515123854\n",
      "9997    0515126500\n",
      "9998    0515130397\n",
      "9999    0515134023\n",
      "Name: isbn, Length: 10000, dtype: object"
     ]
    }
   ],
   "source": [
    "isbn"
   ]
  },
  {
   "cell_type": "code",
   "execution_count": 46,
   "id": "b00875f9",
   "metadata": {},
   "outputs": [],
   "source": [
    "books_pdf.drop('isbn', axis=1, inplace=True)"
   ]
  },
  {
   "cell_type": "code",
   "execution_count": 47,
   "id": "7c847b42",
   "metadata": {},
   "outputs": [],
   "source": [
    "normalized_df = (books_pdf - books_pdf.mean()) / (books_pdf.std())"
   ]
  },
  {
   "cell_type": "code",
   "execution_count": 48,
   "id": "3bafda89",
   "metadata": {},
   "outputs": [
    {
     "name": "stdout",
     "output_type": "stream",
     "text": [
      "year_of_publication    float64\n",
      "author_id              float64\n",
      "num_reviews            float64\n",
      "is_popular             float64\n",
      "avg_rating             float64\n",
      "                        ...   \n",
      "e95                    float64\n",
      "e96                    float64\n",
      "e97                    float64\n",
      "e98                    float64\n",
      "e99                    float64\n",
      "Length: 123, dtype: object"
     ]
    }
   ],
   "source": [
    "normalized_df.dtypes"
   ]
  },
  {
   "cell_type": "code",
   "execution_count": 61,
   "id": "d3241c75",
   "metadata": {},
   "outputs": [],
   "source": [
    "cos_similarity = cosine_similarity(normalized_df)"
   ]
  },
  {
   "cell_type": "code",
   "execution_count": 81,
   "id": "fee2cfec",
   "metadata": {},
   "outputs": [],
   "source": [
    "cos_similarity_pdf = pd.DataFrame(cos_similarity)"
   ]
  },
  {
   "cell_type": "code",
   "execution_count": 56,
   "id": "32135db4",
   "metadata": {},
   "outputs": [
    {
     "name": "stdout",
     "output_type": "stream",
     "text": [
      "'055321103X'"
     ]
    }
   ],
   "source": [
    "isbn[7324]"
   ]
  },
  {
   "cell_type": "code",
   "execution_count": 93,
   "id": "4a63893e",
   "metadata": {},
   "outputs": [],
   "source": [
    "idcs_pdf = pd.DataFrame([cos_similarity_pdf[i].nlargest(n=6).index for i in cos_similarity_pdf])"
   ]
  },
  {
   "cell_type": "code",
   "execution_count": 94,
   "id": "92a0b890",
   "metadata": {},
   "outputs": [],
   "source": [
    "isbn_rec_pdf = idcs_pdf.applymap(lambda x: isbn[x])"
   ]
  },
  {
   "cell_type": "code",
   "execution_count": 100,
   "id": "5cc185b9",
   "metadata": {},
   "outputs": [],
   "source": [
    "isbn_rec_pdf.rename(columns = {0: \"isbn\", 1: 'rec1',  2: 'rec2',  3: 'rec3', 4: 'rec4',  5: 'rec5'}, inplace = True)"
   ]
  },
  {
   "cell_type": "code",
   "execution_count": 101,
   "id": "41e58d1e",
   "metadata": {},
   "outputs": [
    {
     "name": "stdout",
     "output_type": "stream",
     "text": [
      "            isbn        rec1        rec2        rec3        rec4        rec5\n",
      "0     0006149995  0684800802  0029109752  0029087104  1853267805  067187215X\n",
      "1     0006552447  055321103X  0515107603  0449230007  0812544056  0553579916\n",
      "2     0006645097  0712657037  0393312070  0446518123  1564780708  0932379257\n",
      "3     0026259206  0020228724  0671006762  0671017187  0671537288  0029109752\n",
      "4     0027653668  0684845180  0020228724  0671749838  0671529072  0684826984\n",
      "...          ...         ...         ...         ...         ...         ...\n",
      "9995  0515119989  0515122300  0451195043  0373257090  0373253931  0373288778\n",
      "9996  0515123854  0618249060  0380756218  0843936819  0440237556  0523418655\n",
      "9997  0515126500  0345389484  1931847010  1582700036  0425034259  0373029500\n",
      "9998  0515130397  0373520050  0373520034  0373520565  0373520344  0345329201\n",
      "9999  0515134023  0877854769  0345287401  0330321250  0440236029  0440402565\n",
      "\n",
      "[10000 rows x 6 columns]"
     ]
    }
   ],
   "source": [
    "isbn_rec_pdf"
   ]
  },
  {
   "cell_type": "code",
   "execution_count": 104,
   "id": "8e66fbb9",
   "metadata": {},
   "outputs": [],
   "source": [
    "books_rec = fs.create_feature_group(\"books_rec\",\n",
    "                                version=1,\n",
    "                                primary_key=[\"isbn\"],\n",
    "                                description=\"Books recommendations\",\n",
    "                                online_enabled=True,\n",
    "                                time_travel_format=None,\n",
    "                                statistics_config=False)\n",
    "books_rec.save(isbn_rec_pdf)"
   ]
  },
  {
   "cell_type": "code",
   "execution_count": null,
   "id": "c401d1f7",
   "metadata": {},
   "outputs": [],
   "source": []
  }
 ],
 "metadata": {
  "kernelspec": {
   "display_name": "PySpark",
   "language": "python",
   "name": "pysparkkernel"
  },
  "language_info": {
   "codemirror_mode": {
    "name": "python",
    "version": 3
   },
   "mimetype": "text/x-python",
   "name": "pyspark",
   "pygments_lexer": "python3"
  }
 },
 "nbformat": 4,
 "nbformat_minor": 5
}