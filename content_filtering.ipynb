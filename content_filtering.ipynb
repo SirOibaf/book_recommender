{
 "cells": [
  {
   "cell_type": "code",
   "execution_count": 6,
   "id": "338c0310",
   "metadata": {},
   "outputs": [
    {
     "name": "stdout",
     "output_type": "stream",
     "text": [
      "Connected. Call `.close()` to terminate connection gracefully."
     ]
    }
   ],
   "source": [
    "import hsfs\n",
    "import numpy as np\n",
    "import pandas as pd\n",
    "\n",
    "from sklearn.metrics.pairwise import cosine_similarity\n",
    "\n",
    "connection = hsfs.connection()\n",
    "fs = connection.get_feature_store()"
   ]
  },
  {
   "cell_type": "code",
   "execution_count": 2,
   "id": "0880c444",
   "metadata": {},
   "outputs": [],
   "source": [
    "books = fs.get_feature_group('books', version=1)"
   ]
  },
  {
   "cell_type": "code",
   "execution_count": 18,
   "id": "a5a06453",
   "metadata": {},
   "outputs": [],
   "source": [
    "books_df = books.select_except(['book_title', 'publisher']).read().limit(50000).toPandas()"
   ]
  },
  {
   "cell_type": "code",
   "execution_count": 15,
   "id": "21b2c078",
   "metadata": {},
   "outputs": [],
   "source": [
    "# Gotta normalize this dataframe, otherwise I all 1s\n",
    "# try with standard deviation\n",
    "# normalization and one-hot encoding of authors can happen at the transformation levels.\n",
    "normalized_df=(books_df-books_df.mean())/(books_df.std())"
   ]
  },
  {
   "cell_type": "code",
   "execution_count": 16,
   "id": "ca0ebe7c",
   "metadata": {},
   "outputs": [],
   "source": [
    "cos_similarity = cosine_similarity(normalized_df)"
   ]
  },
  {
   "cell_type": "code",
   "execution_count": 17,
   "id": "59a6333a",
   "metadata": {},
   "outputs": [
    {
     "name": "stdout",
     "output_type": "stream",
     "text": [
      "0        1.000000\n",
      "39027    0.999999\n",
      "3402     0.999989\n",
      "21926    0.999980\n",
      "4534     0.999980\n",
      "8087     0.999932\n",
      "Name: 0, dtype: float64"
     ]
    }
   ],
   "source": [
    "pd.DataFrame(cos_similarity)[0].nlargest(n=6)"
   ]
  },
  {
   "cell_type": "code",
   "execution_count": 19,
   "id": "17a6dea7",
   "metadata": {},
   "outputs": [],
   "source": [
    "isbn = books_df['isbn']"
   ]
  },
  {
   "cell_type": "code",
   "execution_count": 28,
   "id": "6a078bb5",
   "metadata": {},
   "outputs": [
    {
     "name": "stdout",
     "output_type": "stream",
     "text": [
      "'0935216677'"
     ]
    }
   ],
   "source": [
    "isbn[21926]"
   ]
  }
 ],
 "metadata": {
  "kernelspec": {
   "display_name": "PySpark",
   "language": "python",
   "name": "pysparkkernel"
  },
  "language_info": {
   "codemirror_mode": {
    "name": "python",
    "version": 3
   },
   "mimetype": "text/x-python",
   "name": "pyspark",
   "pygments_lexer": "python3"
  }
 },
 "nbformat": 4,
 "nbformat_minor": 5
}