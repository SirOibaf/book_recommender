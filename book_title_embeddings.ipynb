{
 "cells": [
  {
   "cell_type": "code",
   "execution_count": 31,
   "id": "0a99edd0",
   "metadata": {},
   "outputs": [
    {
     "name": "stdout",
     "output_type": "stream",
     "text": [
      "Connected. Call `.close()` to terminate connection gracefully."
     ]
    }
   ],
   "source": [
    "import hsfs\n",
    "\n",
    "from pyspark.ml.feature import Word2Vec\n",
    "from pyspark.sql.functions import split\n",
    "from pyspark.ml.functions import vector_to_array\n",
    "\n",
    "connection = hsfs.connection()\n",
    "fs = connection.get_feature_store()"
   ]
  },
  {
   "cell_type": "code",
   "execution_count": 7,
   "id": "2e5079d7",
   "metadata": {},
   "outputs": [],
   "source": [
    "books_raw = fs.get_feature_group(\"books_raw\", version=1) \\\n",
    "              .select(['isbn', 'book_title']) \\\n",
    "              .read()"
   ]
  },
  {
   "cell_type": "code",
   "execution_count": 15,
   "id": "9f3c9084",
   "metadata": {},
   "outputs": [],
   "source": [
    "book_title_w2c_input = books_raw.withColumn('book_title', split('book_title', ' '))"
   ]
  },
  {
   "cell_type": "code",
   "execution_count": 18,
   "id": "b4623582",
   "metadata": {},
   "outputs": [],
   "source": [
    "word2Vec = Word2Vec(vectorSize=100, maxIter=20, inputCol=\"book_title\", outputCol=\"model\")"
   ]
  },
  {
   "cell_type": "code",
   "execution_count": 19,
   "id": "fcaec10e",
   "metadata": {},
   "outputs": [],
   "source": [
    "model = word2Vec.fit(book_title_w2c_input)"
   ]
  },
  {
   "cell_type": "code",
   "execution_count": 20,
   "id": "7da457e8",
   "metadata": {},
   "outputs": [
    {
     "name": "stdout",
     "output_type": "stream",
     "text": [
      "+----------+--------------------+\n",
      "|      word|              vector|\n",
      "+----------+--------------------+\n",
      "|  Unspoken|[-0.3368006348609...|\n",
      "| (Precious|[0.48832708597183...|\n",
      "|    Talent|[0.09526077657938...|\n",
      "| Hourglass|[0.16151781380176...|\n",
      "|   Priests|[-0.1106925979256...|\n",
      "|     Aloft|[0.17404748499393...|\n",
      "| Religion:|[-0.3366450071334...|\n",
      "| Good-Bye,|[-0.4512170255184...|\n",
      "|  Messiahs|[0.00796517822891...|\n",
      "|  Trouble,|[-0.2906562387943...|\n",
      "|   Affaire|[-0.3789294064044...|\n",
      "|    Corps,|[-0.1641155779361...|\n",
      "|      Vile|[-0.6809298396110...|\n",
      "|   Heaven)|[0.20334143936634...|\n",
      "|      9/11|[0.36479723453521...|\n",
      "|     Ages,|[-0.1385688781738...|\n",
      "|   Motives|[0.12206297367811...|\n",
      "| Thriller)|[-0.4521277248859...|\n",
      "|    Fierce|[-0.8244647979736...|\n",
      "|Delectable|[-0.1563138663768...|\n",
      "+----------+--------------------+\n",
      "only showing top 20 rows"
     ]
    }
   ],
   "source": [
    "model.getVectors().show()"
   ]
  },
  {
   "cell_type": "code",
   "execution_count": 21,
   "id": "02cdf930",
   "metadata": {},
   "outputs": [],
   "source": [
    "title_embedding = model.transform(book_title_w2c_input)"
   ]
  },
  {
   "cell_type": "code",
   "execution_count": 32,
   "id": "a60a18b5",
   "metadata": {},
   "outputs": [],
   "source": [
    "title_embedding = title_embedding.withColumnRenamed('model', 'title_embeddings')\\\n",
    "                                  .withColumn('title_embeddings', vector_to_array('title_embeddings')) \\\n",
    "                                 .drop('book_title')"
   ]
  },
  {
   "cell_type": "code",
   "execution_count": 26,
   "id": "486bdf35",
   "metadata": {},
   "outputs": [
    {
     "name": "stdout",
     "output_type": "stream",
     "text": [
      "+----------+--------------------+\n",
      "|      isbn|    title_embeddings|\n",
      "+----------+--------------------+\n",
      "|0962962058|[0.02132615759037...|\n",
      "|0962962880|[-0.1588221978810...|\n",
      "|0962962899|[0.01749602332711...|\n",
      "|0962964506|[-0.0355386535326...|\n",
      "|0962968307|[0.10151556879281...|\n",
      "|0962975419|[-0.0744516259680...|\n",
      "|0962976806|[0.03971425609456...|\n",
      "|0962976830|[0.03971425609456...|\n",
      "|0962980307|[-0.0936847247183...|\n",
      "|0962980323|[-0.0688666626811...|\n",
      "+----------+--------------------+\n",
      "only showing top 10 rows"
     ]
    }
   ],
   "source": [
    "title_embedding.show(10)"
   ]
  },
  {
   "cell_type": "code",
   "execution_count": 33,
   "id": "cefd43e3",
   "metadata": {},
   "outputs": [],
   "source": [
    "extra_hudi_options = {\n",
    "    \"hoodie.bulkinsert.shuffle.parallelism\":\"5\",\n",
    "    \"hoodie.insert.shuffle.parallelism\":\"5\", \n",
    "    \"hoodie.upsert.shuffle.parallelism\":\"5\",\n",
    "    \"hoodie.parquet.compression.ratio\":\"0.5\"\n",
    "} "
   ]
  },
  {
   "cell_type": "code",
   "execution_count": 34,
   "id": "c85e3f82",
   "metadata": {},
   "outputs": [],
   "source": [
    "title_embeddings_meta = fs.create_feature_group(\"title_embeddings\",\n",
    "                                version=1,\n",
    "                                description=\"Embeddings for book titles\",\n",
    "                                online_enabled=False,\n",
    "                                primary_key=[\"isbn\"],\n",
    "                                statistics_config=False)\n",
    "\n",
    "title_embeddings_meta.save(title_embedding, extra_hudi_options)"
   ]
  },
  {
   "cell_type": "code",
   "execution_count": null,
   "id": "7f1de1b6",
   "metadata": {},
   "outputs": [],
   "source": []
  }
 ],
 "metadata": {
  "kernelspec": {
   "display_name": "PySpark",
   "language": "python",
   "name": "pysparkkernel"
  },
  "language_info": {
   "codemirror_mode": {
    "name": "python",
    "version": 3
   },
   "mimetype": "text/x-python",
   "name": "pyspark",
   "pygments_lexer": "python3"
  }
 },
 "nbformat": 4,
 "nbformat_minor": 5
}