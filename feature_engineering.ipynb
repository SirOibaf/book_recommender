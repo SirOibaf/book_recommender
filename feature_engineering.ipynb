{
 "cells": [
  {
   "cell_type": "code",
   "execution_count": 1,
   "id": "5ad5bf2d",
   "metadata": {},
   "outputs": [
    {
     "name": "stdout",
     "output_type": "stream",
     "text": [
      "Starting Spark application\n"
     ]
    },
    {
     "data": {
      "text/html": [
       "<table>\n",
       "<tr><th>ID</th><th>Application ID</th><th>Kind</th><th>State</th><th>Spark UI</th><th>Driver log</th></tr><tr><td>9</td><td>application_1645967682797_0010</td><td>pyspark</td><td>idle</td><td><a target=\"_blank\" href=\"/hopsworks-api/yarnui/https://resourcemanager.service.consul:8089/proxy/application_1645967682797_0010/\">Link</a></td><td><a target=\"_blank\" href=\"/hopsworks-api/yarnui/https://ip-10-0-0-91.eu-north-1.compute.internal:8044/node/containerlogs/container_e01_1645967682797_0010_01_000001/book_recommendation__fabiolca\">Link</a></td></tr></table>"
      ],
      "text/plain": [
       "<IPython.core.display.HTML object>"
      ]
     },
     "metadata": {},
     "output_type": "display_data"
    },
    {
     "name": "stdout",
     "output_type": "stream",
     "text": [
      "SparkSession available as 'spark'.\n",
      "Connected. Call `.close()` to terminate connection gracefully."
     ]
    }
   ],
   "source": [
    "from pyspark.sql import functions as F\n",
    "from pyspark.sql.window import Window\n",
    "import hsfs\n",
    "\n",
    "connection = hsfs.connection()\n",
    "fs = connection.get_feature_store()"
   ]
  },
  {
   "cell_type": "code",
   "execution_count": null,
   "id": "5dd524de",
   "metadata": {},
   "outputs": [],
   "source": [
    "books = fs.get_feature_group(\"books_raw\", version=1)\n",
    "users = fs.get_feature_group(\"users_raw\", version=1)\n",
    "reviews = fs.get_feature_group(\"reviews_raw\", version=1)"
   ]
  },
  {
   "cell_type": "code",
   "execution_count": 7,
   "id": "9fbfd691",
   "metadata": {},
   "outputs": [],
   "source": [
    "# TODO(fabio): one-hot-encode\n",
    "authors = books.select(\"Book-Author\").distinct() \\\n",
    "               .withColumn(\"author_id\", F.monotonically_increasing_id())"
   ]
  },
  {
   "cell_type": "code",
   "execution_count": 8,
   "id": "495a64d7",
   "metadata": {},
   "outputs": [],
   "source": [
    "books = books.join(authors, on=\"Book-Author\").drop('Book-Author')"
   ]
  },
  {
   "cell_type": "code",
   "execution_count": 9,
   "id": "3a03af99",
   "metadata": {},
   "outputs": [],
   "source": [
    "# Compute the number of reviews for each book\n",
    "books_reviews = books.join(ratings, on=\"ISBN\") \\\n",
    "                     .groupBy(\"ISBN\") \\\n",
    "                     .count() \\\n",
    "                     .withColumnRenamed(\"count\", \"num_reviews\")"
   ]
  },
  {
   "cell_type": "code",
   "execution_count": 10,
   "id": "c6f0cfa2",
   "metadata": {},
   "outputs": [],
   "source": [
    "# Books that have more than 100 reviews are considered popular\n",
    "popular_books = books_reviews.filter(F.col(\"num_reviews\") > 100) \\\n",
    "                             .withColumn('is_popular', F.lit(1)) \\\n",
    "                             .drop('num_reviews')"
   ]
  },
  {
   "cell_type": "code",
   "execution_count": 11,
   "id": "68caa7ab",
   "metadata": {},
   "outputs": [],
   "source": [
    "# Compute the average rating for each book\n",
    "avg_rating = books.join(ratings, on=\"ISBN\") \\\n",
    "                  .groupBy(\"ISBN\") \\\n",
    "                  .agg({'Book-Rating': 'avg'}) \\\n",
    "                  .withColumnRenamed('avg(Book-Rating)', 'avg_rating')"
   ]
  },
  {
   "cell_type": "code",
   "execution_count": 12,
   "id": "5e5bfe31",
   "metadata": {},
   "outputs": [],
   "source": [
    "# Compute the number of ratings for each class\n",
    "rating_classes_tmp = books.join(ratings, on=\"ISBN\")\n",
    "rating_classes = books.select(\"ISBN\")\n",
    "\n",
    "for i in range(0, 11):\n",
    "    rating_class_i = rating_classes_tmp.filter(F.col(\"Book-Rating\") == i) \\\n",
    "                                       .groupBy(\"ISBN\") \\\n",
    "                                       .count() \\\n",
    "                                       .withColumnRenamed(\"count\", \"num_ratings_{}\".format(i))\n",
    "    \n",
    "    rating_classes = rating_classes.join(rating_class_i, on=\"ISBN\", how=\"left\")"
   ]
  },
  {
   "cell_type": "code",
   "execution_count": 13,
   "id": "c7ac383e",
   "metadata": {},
   "outputs": [],
   "source": [
    "# compute authors top books\n",
    "author_rating_window = Window.partitionBy(\"author_id\").orderBy(F.col(\"avg_rating\").desc())\n",
    "\n",
    "author_ranking = avg_rating.join(books, on=\"ISBN\") \\\n",
    "                           .withColumn('author_book_rank',F.row_number().over(author_rating_window)) \\\n",
    "                           .drop('author_id')\n",
    "\n",
    "top_3_author_books = books.join(author_ranking, on=\"ISBN\") \\\n",
    "                          .filter(F.col(\"author_book_rank\") <= 3) \\\n",
    "                          .withColumn(\"is_author_popular_book\", F.lit(1)) \\\n",
    "                          .select(\"ISBN\", \"is_author_popular_book\")"
   ]
  },
  {
   "cell_type": "code",
   "execution_count": 15,
   "id": "1a5e7526",
   "metadata": {},
   "outputs": [],
   "source": [
    "# [ 0 - 15, 15 - 30, 31 - 45, 46 - 60, 61 - 75, other ]\n",
    "age_bracket = books.select(\"ISBN\")\n",
    "\n",
    "for age_br in [(0, 15), (15, 30), (30, 45), (45, 60), (60, 75)]:\n",
    "    age_bracket_tmp = books.select(\"ISBN\") \\\n",
    "        .join(ratings, on='ISBN') \\\n",
    "        .join(users, on=\"User-ID\") \\\n",
    "        .filter((F.col('Age') > age_br[0]) & (F.col('Age') <= age_br[1])) \\\n",
    "        .groupBy(\"ISBN\") \\\n",
    "        .agg({'Book-Rating': 'avg'}) \\\n",
    "        .withColumnRenamed('avg(Book-Rating)', 'avg_rating_age_{}_{}'.format(age_br[0], age_br[1]))\n",
    "    \n",
    "    age_bracket = age_bracket.join(age_bracket_tmp, on=\"ISBN\", how=\"left\")\n",
    "    \n",
    "# Other   \n",
    "age_bracket_tmp = books.select(\"ISBN\") \\\n",
    "        .join(ratings, on='ISBN') \\\n",
    "        .join(users, on=\"User-ID\") \\\n",
    "        .filter((F.col('Age') > 75) | (F.isnull('Age'))) \\\n",
    "        .groupBy(\"ISBN\") \\\n",
    "        .agg({'Book-Rating': 'avg'}) \\\n",
    "        .withColumnRenamed('avg(Book-Rating)', 'avg_rating_age_other')\n",
    "\n",
    "age_bracket = age_bracket.join(age_bracket_tmp, on=\"ISBN\", how=\"left\")"
   ]
  },
  {
   "cell_type": "code",
   "execution_count": 16,
   "id": "540b377f",
   "metadata": {},
   "outputs": [],
   "source": [
    "books_fg = books.join(books_reviews, on=\"ISBN\", how=\"left\") \\\n",
    "     .join(popular_books, on=\"ISBN\", how=\"left\") \\\n",
    "     .join(avg_rating, on=\"ISBN\", how=\"left\") \\\n",
    "     .join(rating_classes, on=\"ISBN\", how=\"left\") \\\n",
    "     .join(top_3_author_books, on=\"ISBN\", how=\"left\") \\\n",
    "     .join(age_bracket, on=\"ISBN\", how=\"left\") \\\n",
    "     .fillna(0)"
   ]
  },
  {
   "cell_type": "code",
   "execution_count": 17,
   "id": "e0be1854",
   "metadata": {},
   "outputs": [],
   "source": [
    "# cleanup columns\n",
    "books_fg = books_fg.selectExpr([\"`{}` as `{}`\".format(c, c.lower().replace('-', '_')) for c in books_fg.columns])"
   ]
  },
  {
   "cell_type": "code",
   "execution_count": 18,
   "id": "52d78843",
   "metadata": {},
   "outputs": [],
   "source": [
    "books = fs.create_feature_group(\"books\",\n",
    "                                version=1,\n",
    "                                description=\"Books related features and ratings\",\n",
    "                                online_enabled=False,\n",
    "                                primary_key=[\"isbn\"])\n",
    "books.save(books_fg)"
   ]
  },
  {
   "cell_type": "code",
   "execution_count": 20,
   "id": "834f370e",
   "metadata": {},
   "outputs": [
    {
     "name": "stdout",
     "output_type": "stream",
     "text": [
      "271359"
     ]
    }
   ],
   "source": [
    "books_fg.select(\"ISBN\").distinct().count()"
   ]
  }
 ],
 "metadata": {
  "kernelspec": {
   "display_name": "PySpark",
   "language": "python",
   "name": "pysparkkernel"
  },
  "language_info": {
   "codemirror_mode": {
    "name": "python",
    "version": 3
   },
   "mimetype": "text/x-python",
   "name": "pyspark",
   "pygments_lexer": "python3"
  }
 },
 "nbformat": 4,
 "nbformat_minor": 5
}