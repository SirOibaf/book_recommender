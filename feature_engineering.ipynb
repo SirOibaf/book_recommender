{
 "cells": [
  {
   "cell_type": "code",
   "execution_count": 1,
   "id": "96905c9b",
   "metadata": {},
   "outputs": [
    {
     "name": "stdout",
     "output_type": "stream",
     "text": [
      "Starting Spark application\n"
     ]
    },
    {
     "data": {
      "text/html": [
       "<table>\n",
       "<tr><th>ID</th><th>Application ID</th><th>Kind</th><th>State</th><th>Spark UI</th><th>Driver log</th></tr><tr><td>9</td><td>application_1645967682797_0010</td><td>pyspark</td><td>idle</td><td><a target=\"_blank\" href=\"/hopsworks-api/yarnui/https://resourcemanager.service.consul:8089/proxy/application_1645967682797_0010/\">Link</a></td><td><a target=\"_blank\" href=\"/hopsworks-api/yarnui/https://ip-10-0-0-91.eu-north-1.compute.internal:8044/node/containerlogs/container_e01_1645967682797_0010_01_000001/book_recommendation__fabiolca\">Link</a></td></tr></table>"
      ],
      "text/plain": [
       "<IPython.core.display.HTML object>"
      ]
     },
     "metadata": {},
     "output_type": "display_data"
    },
    {
     "name": "stdout",
     "output_type": "stream",
     "text": [
      "SparkSession available as 'spark'.\n",
      "Connected. Call `.close()` to terminate connection gracefully."
     ]
    }
   ],
   "source": [
    "from pyspark.sql import functions as F\n",
    "from pyspark.sql.window import Window\n",
    "import hsfs\n",
    "\n",
    "connection = hsfs.connection()\n",
    "fs = connection.get_feature_store()"
   ]
  },
  {
   "cell_type": "code",
   "execution_count": 2,
   "id": "5e632986",
   "metadata": {},
   "outputs": [],
   "source": [
    "# Read source dataset \n",
    "books = spark.read.format('csv') \\\n",
    "            .option('header', 'true') \\\n",
    "            .option(\"quote\", \"\\\"\") \\\n",
    "            .option(\"escape\", \"\\\"\") \\\n",
    "            .load('hdfs:///Projects/book_recommendation/RawData/Books.csv')\n",
    "\n",
    "users = spark.read.format('csv') \\\n",
    "            .option('header', 'true') \\\n",
    "            .load('hdfs:///Projects/book_recommendation/RawData/Users.csv')\n",
    "\n",
    "ratings = spark.read.format('csv') \\\n",
    "            .option('header', 'true') \\\n",
    "            .option('inferSchema', 'true') \\\n",
    "            .load('hdfs:///Projects/book_recommendation/RawData/Ratings.csv')"
   ]
  },
  {
   "cell_type": "code",
   "execution_count": 3,
   "id": "9555936a",
   "metadata": {},
   "outputs": [],
   "source": [
    "# Books feature engineering\n",
    "# Drop image columns as they are not needed for our use case\n",
    "books = books.drop('Image-URL-S', 'Image-URL-M', 'Image-URL-L')"
   ]
  },
  {
   "cell_type": "code",
   "execution_count": 4,
   "id": "08c482af",
   "metadata": {},
   "outputs": [],
   "source": [
    "# Data cleaning\n",
    "# Some rows have wrongly allinged columns that need to be fixed\n",
    "books = books.withColumn('Year-Of-Publication', \n",
    "                             F.when((F.col(\"ISBN\") == \"078946697X\") | (F.col(\"ISBN\") == \"0789466953\"), 2000).otherwise(F.col('Year-Of-Publication'))) \\\n",
    "                 .withColumn('Publisher', \n",
    "                             F.when((F.col(\"ISBN\") == \"078946697X\") | (F.col(\"ISBN\") == \"0789466953\"), \"DK Publishing Inc\").otherwise(F.col('Publisher'))) \\\n",
    "                 .withColumn('Book-Author', F.when(F.col(\"ISBN\") == \"078946697X\", \"Michael Teitelbaum\").otherwise(F.col('Book-Author'))) \\\n",
    "                 .withColumn('Book-Title', F.when(F.col(\"ISBN\") == \"078946697X\", \"DK Readers: Creating the X-Men, How It All Began (Level 4: Proficient Readers)\").otherwise(F.col('Book-Title'))) \\\n",
    "                 .withColumn('Book-Author', F.when(F.col(\"ISBN\") == \"0789466953\", \"James Buckley\").otherwise(F.col('Book-Author'))) \\\n",
    "                 .withColumn('Book-Title', F.when(F.col(\"ISBN\") == \"0789466953\", \"DK Readers: Creating the X-Men, How Comic Books Come to Life (Level 4: Proficient Readers)\").otherwise(F.col('Book-Title'))) \\\n",
    "                 .withColumn('Book-Author', F.when(F.col(\"ISBN\") == \"2070426769\", \"Jean-Marie Gustave Le ClÃ?Â©zio\").otherwise(F.col('Book-Author'))) \\\n",
    "                 .withColumn('Book-Title', F.when(F.col(\"ISBN\") == \"2070426769\", \"Peuple du ciel, suivi de 'Les Bergers\").otherwise(F.col('Book-Title'))) \\\n",
    "                 .withColumn('Publisher', F.when(F.col(\"ISBN\") == \"2070426769\", \"Gallimard\").otherwise(F.col('Publisher'))) \\\n",
    "                 .withColumn('Year-Of-Publication', F.when(F.col(\"ISBN\") == \"2070426769\", 2003).otherwise(F.col('Year-Of-Publication'))) "
   ]
  },
  {
   "cell_type": "code",
   "execution_count": 5,
   "id": "19701df4",
   "metadata": {},
   "outputs": [],
   "source": [
    "# Deal with null values in publisher\n",
    "books = books.withColumn('Publisher', F.when(F.isnull('Publisher'), 'other').otherwise(F.col('Publisher')))"
   ]
  },
  {
   "cell_type": "code",
   "execution_count": 6,
   "id": "f9efd916",
   "metadata": {},
   "outputs": [],
   "source": [
    "# Deal with weird Years-Of-Publication\n",
    "books = books.withColumn('Year-Of-Publication', F.col('Year-Of-Publication').cast('int'))"
   ]
  },
  {
   "cell_type": "code",
   "execution_count": 7,
   "id": "8ae1c055",
   "metadata": {},
   "outputs": [],
   "source": [
    "authors = books.select(\"Book-Author\").distinct() \\\n",
    "               .withColumn(\"author_id\", F.monotonically_increasing_id())"
   ]
  },
  {
   "cell_type": "code",
   "execution_count": 8,
   "id": "aeba217b",
   "metadata": {},
   "outputs": [],
   "source": [
    "books = books.join(authors, on=\"Book-Author\").drop('Book-Author')"
   ]
  },
  {
   "cell_type": "code",
   "execution_count": 9,
   "id": "cf0bff8e",
   "metadata": {},
   "outputs": [],
   "source": [
    "# Compute the number of reviews for each book\n",
    "books_reviews = books.join(ratings, on=\"ISBN\") \\\n",
    "                     .groupBy(\"ISBN\") \\\n",
    "                     .count() \\\n",
    "                     .withColumnRenamed(\"count\", \"num_reviews\")"
   ]
  },
  {
   "cell_type": "code",
   "execution_count": 10,
   "id": "0858a91d",
   "metadata": {},
   "outputs": [],
   "source": [
    "# Books that have more than 100 reviews are considered popular\n",
    "popular_books = books_reviews.filter(F.col(\"num_reviews\") > 100) \\\n",
    "                             .withColumn('is_popular', F.lit(1)) \\\n",
    "                             .drop('num_reviews')"
   ]
  },
  {
   "cell_type": "code",
   "execution_count": 11,
   "id": "f83b2871",
   "metadata": {},
   "outputs": [],
   "source": [
    "# Compute the average rating for each book\n",
    "avg_rating = books.join(ratings, on=\"ISBN\") \\\n",
    "                  .groupBy(\"ISBN\") \\\n",
    "                  .agg({'Book-Rating': 'avg'}) \\\n",
    "                  .withColumnRenamed('avg(Book-Rating)', 'avg_rating')"
   ]
  },
  {
   "cell_type": "code",
   "execution_count": 12,
   "id": "04d70282",
   "metadata": {},
   "outputs": [],
   "source": [
    "# Compute the number of ratings for each class\n",
    "rating_classes_tmp = books.join(ratings, on=\"ISBN\")\n",
    "rating_classes = books.select(\"ISBN\")\n",
    "\n",
    "for i in range(0, 11):\n",
    "    rating_class_i = rating_classes_tmp.filter(F.col(\"Book-Rating\") == i) \\\n",
    "                                       .groupBy(\"ISBN\") \\\n",
    "                                       .count() \\\n",
    "                                       .withColumnRenamed(\"count\", \"num_ratings_{}\".format(i))\n",
    "    \n",
    "    rating_classes = rating_classes.join(rating_class_i, on=\"ISBN\", how=\"left\")"
   ]
  },
  {
   "cell_type": "code",
   "execution_count": 13,
   "id": "a2c312da",
   "metadata": {},
   "outputs": [],
   "source": [
    "# compute authors top books\n",
    "author_rating_window = Window.partitionBy(\"author_id\").orderBy(F.col(\"avg_rating\").desc())\n",
    "\n",
    "author_ranking = avg_rating.join(books, on=\"ISBN\") \\\n",
    "                           .withColumn('author_book_rank',F.row_number().over(author_rating_window)) \\\n",
    "                           .drop('author_id')\n",
    "\n",
    "top_3_author_books = books.join(author_ranking, on=\"ISBN\") \\\n",
    "                          .filter(F.col(\"author_book_rank\") <= 3) \\\n",
    "                          .withColumn(\"is_author_popular_book\", F.lit(1)) \\\n",
    "                          .select(\"ISBN\", \"is_author_popular_book\")"
   ]
  },
  {
   "cell_type": "code",
   "execution_count": 15,
   "id": "5774c57e",
   "metadata": {},
   "outputs": [],
   "source": [
    "# [ 0 - 15, 15 - 30, 31 - 45, 46 - 60, 61 - 75, other ]\n",
    "age_bracket = books.select(\"ISBN\")\n",
    "\n",
    "for age_br in [(0, 15), (15, 30), (30, 45), (45, 60), (60, 75)]:\n",
    "    age_bracket_tmp = books.select(\"ISBN\") \\\n",
    "        .join(ratings, on='ISBN') \\\n",
    "        .join(users, on=\"User-ID\") \\\n",
    "        .filter((F.col('Age') > age_br[0]) & (F.col('Age') <= age_br[1])) \\\n",
    "        .groupBy(\"ISBN\") \\\n",
    "        .agg({'Book-Rating': 'avg'}) \\\n",
    "        .withColumnRenamed('avg(Book-Rating)', 'avg_rating_age_{}_{}'.format(age_br[0], age_br[1]))\n",
    "    \n",
    "    age_bracket = age_bracket.join(age_bracket_tmp, on=\"ISBN\", how=\"left\")\n",
    "    \n",
    "# Other   \n",
    "age_bracket_tmp = books.select(\"ISBN\") \\\n",
    "        .join(ratings, on='ISBN') \\\n",
    "        .join(users, on=\"User-ID\") \\\n",
    "        .filter((F.col('Age') > 75) | (F.isnull('Age'))) \\\n",
    "        .groupBy(\"ISBN\") \\\n",
    "        .agg({'Book-Rating': 'avg'}) \\\n",
    "        .withColumnRenamed('avg(Book-Rating)', 'avg_rating_age_other')\n",
    "\n",
    "age_bracket = age_bracket.join(age_bracket_tmp, on=\"ISBN\", how=\"left\")"
   ]
  },
  {
   "cell_type": "code",
   "execution_count": 16,
   "id": "e39e190c",
   "metadata": {},
   "outputs": [],
   "source": [
    "books_fg = books.join(books_reviews, on=\"ISBN\", how=\"left\") \\\n",
    "     .join(popular_books, on=\"ISBN\", how=\"left\") \\\n",
    "     .join(avg_rating, on=\"ISBN\", how=\"left\") \\\n",
    "     .join(rating_classes, on=\"ISBN\", how=\"left\") \\\n",
    "     .join(top_3_author_books, on=\"ISBN\", how=\"left\") \\\n",
    "     .join(age_bracket, on=\"ISBN\", how=\"left\") \\\n",
    "     .fillna(0)"
   ]
  },
  {
   "cell_type": "code",
   "execution_count": 17,
   "id": "0199a0de",
   "metadata": {},
   "outputs": [],
   "source": [
    "# cleanup columns\n",
    "books_fg = books_fg.selectExpr([\"`{}` as `{}`\".format(c, c.lower().replace('-', '_')) for c in books_fg.columns])"
   ]
  },
  {
   "cell_type": "code",
   "execution_count": 18,
   "id": "c7afd1a2",
   "metadata": {},
   "outputs": [],
   "source": [
    "books = fs.create_feature_group(\"books\",\n",
    "                                version=1,\n",
    "                                description=\"Books related features and ratings\",\n",
    "                                online_enabled=False,\n",
    "                                primary_key=[\"isbn\"])\n",
    "books.save(books_fg)"
   ]
  },
  {
   "cell_type": "code",
   "execution_count": 20,
   "id": "f7d93640",
   "metadata": {},
   "outputs": [
    {
     "name": "stdout",
     "output_type": "stream",
     "text": [
      "271359"
     ]
    }
   ],
   "source": [
    "books_fg.select(\"ISBN\").distinct().count()"
   ]
  }
 ],
 "metadata": {
  "kernelspec": {
   "display_name": "PySpark",
   "language": "python",
   "name": "pysparkkernel"
  },
  "language_info": {
   "codemirror_mode": {
    "name": "python",
    "version": 3
   },
   "mimetype": "text/x-python",
   "name": "pyspark",
   "pygments_lexer": "python3"
  }
 },
 "nbformat": 4,
 "nbformat_minor": 5
}