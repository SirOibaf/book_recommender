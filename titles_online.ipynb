{
 "cells": [
  {
   "cell_type": "code",
   "execution_count": 1,
   "id": "6633a266",
   "metadata": {},
   "outputs": [
    {
     "name": "stdout",
     "output_type": "stream",
     "text": [
      "Starting Spark application\n"
     ]
    },
    {
     "data": {
      "text/html": [
       "<table>\n",
       "<tr><th>ID</th><th>Application ID</th><th>Kind</th><th>State</th><th>Spark UI</th><th>Driver log</th></tr><tr><td>19</td><td>application_1645967682797_0020</td><td>pyspark</td><td>idle</td><td><a target=\"_blank\" href=\"/hopsworks-api/yarnui/https://resourcemanager.service.consul:8089/proxy/application_1645967682797_0020/\">Link</a></td><td><a target=\"_blank\" href=\"/hopsworks-api/yarnui/https://ip-10-0-0-226.eu-north-1.compute.internal:8044/node/containerlogs/container_e01_1645967682797_0020_01_000001/book_recommendation__fabiolca\">Link</a></td></tr></table>"
      ],
      "text/plain": [
       "<IPython.core.display.HTML object>"
      ]
     },
     "metadata": {},
     "output_type": "display_data"
    },
    {
     "name": "stdout",
     "output_type": "stream",
     "text": [
      "SparkSession available as 'spark'.\n",
      "Connected. Call `.close()` to terminate connection gracefully."
     ]
    }
   ],
   "source": [
    "import hsfs\n",
    "\n",
    "connection = hsfs.connection()\n",
    "fs = connection.get_feature_store()"
   ]
  },
  {
   "cell_type": "code",
   "execution_count": 10,
   "id": "a68b02ad",
   "metadata": {},
   "outputs": [],
   "source": [
    "books_fg = fs.get_feature_group(\"books_raw\", version=1)"
   ]
  },
  {
   "cell_type": "code",
   "execution_count": 11,
   "id": "1a507f89",
   "metadata": {},
   "outputs": [],
   "source": [
    "books_rec = fs.get_feature_group(\"books_rec\", version=1)"
   ]
  },
  {
   "cell_type": "code",
   "execution_count": 13,
   "id": "d95e8a58",
   "metadata": {},
   "outputs": [],
   "source": [
    "online_titles = books_fg.select(['isbn', 'book_title']).join(books_rec.select('isbn')).read()"
   ]
  },
  {
   "cell_type": "code",
   "execution_count": 14,
   "id": "f544cf7c",
   "metadata": {},
   "outputs": [],
   "source": [
    "books_titles = fs.create_feature_group(\"books_titles\",\n",
    "                                version=1,\n",
    "                                primary_key=[\"isbn\"],\n",
    "                                description=\"Books titles\",\n",
    "                                online_enabled=True,\n",
    "                                time_travel_format=None,\n",
    "                                statistics_config=False)\n",
    "books_titles.save(online_titles)"
   ]
  },
  {
   "cell_type": "code",
   "execution_count": null,
   "id": "13104abd",
   "metadata": {},
   "outputs": [],
   "source": []
  }
 ],
 "metadata": {
  "kernelspec": {
   "display_name": "PySpark",
   "language": "python",
   "name": "pysparkkernel"
  },
  "language_info": {
   "codemirror_mode": {
    "name": "python",
    "version": 3
   },
   "mimetype": "text/x-python",
   "name": "pyspark",
   "pygments_lexer": "python3"
  }
 },
 "nbformat": 4,
 "nbformat_minor": 5
}